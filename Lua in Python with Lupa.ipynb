{
 "cells": [
  {
   "cell_type": "markdown",
   "metadata": {},
   "source": [
    "## A basic example of speeding up Python with Lua"
   ]
  },
  {
   "cell_type": "code",
   "execution_count": 1,
   "metadata": {},
   "outputs": [
    {
     "name": "stdout",
     "output_type": "stream",
     "text": [
      "Collecting lupa\n",
      "  Downloading https://files.pythonhosted.org/packages/9a/49/e8218be29c7dd449a953485ccb09ec1c2bd1ceda8c68a7ea5df400f3c953/lupa-1.7-cp27-cp27m-win_amd64.whl (214kB)\n",
      "Installing collected packages: lupa\n",
      "Successfully installed lupa-1.7\n"
     ]
    },
    {
     "name": "stderr",
     "output_type": "stream",
     "text": [
      "You are using pip version 9.0.1, however version 18.0 is available.\n",
      "You should consider upgrading via the 'python -m pip install --upgrade pip' command.\n"
     ]
    }
   ],
   "source": [
    "! pip install lupa"
   ]
  },
  {
   "cell_type": "code",
   "execution_count": 1,
   "metadata": {
    "collapsed": true
   },
   "outputs": [],
   "source": [
    "import lupa"
   ]
  },
  {
   "cell_type": "code",
   "execution_count": 2,
   "metadata": {},
   "outputs": [
    {
     "name": "stdout",
     "output_type": "stream",
     "text": [
      "Help on package lupa:\n",
      "\n",
      "NAME\n",
      "    lupa\n",
      "\n",
      "FILE\n",
      "    c:\\anaconda2\\lib\\site-packages\\lupa\\__init__.py\n",
      "\n",
      "DESCRIPTION\n",
      "    # We need to enable global symbol visibility for lupa in order to\n",
      "    # support binary module loading in Lua.  If we can enable it here, we\n",
      "    # do it temporarily.\n",
      "\n",
      "PACKAGE CONTENTS\n",
      "    _lupa\n",
      "    version\n",
      "\n",
      "DATA\n",
      "    __version__ = '1.7'\n",
      "\n",
      "VERSION\n",
      "    1.7\n",
      "\n",
      "\n"
     ]
    }
   ],
   "source": [
    "help(lupa)"
   ]
  },
  {
   "cell_type": "markdown",
   "metadata": {},
   "source": [
    "Not that helpful ... here is the website: https://github.com/scoder/lupa"
   ]
  },
  {
   "cell_type": "code",
   "execution_count": 3,
   "metadata": {},
   "outputs": [
    {
     "data": {
      "text/plain": [
       "2"
      ]
     },
     "execution_count": 3,
     "metadata": {},
     "output_type": "execute_result"
    }
   ],
   "source": [
    "import lupa\n",
    "from lupa import LuaRuntime\n",
    "lua = LuaRuntime(unpack_returned_tuples=True)\n",
    "\n",
    "lua.eval(\"1+1\")"
   ]
  },
  {
   "cell_type": "code",
   "execution_count": 4,
   "metadata": {},
   "outputs": [
    {
     "name": "stdout",
     "output_type": "stream",
     "text": [
      "<Lua function at 0x0000000005FF29A0>\n"
     ]
    }
   ],
   "source": [
    "lua_code = \"\"\"\n",
    "-- defines a factorial function\n",
    "function fact(n)\n",
    "  if n == 0 then\n",
    "    return 1\n",
    "  else\n",
    "    return n * fact(n-1)\n",
    "  end\n",
    "end\n",
    "\n",
    "return fact -- give the function back to Python\n",
    "\"\"\"\n",
    "lua_fact = lua.execute(lua_code)\n",
    "print(lua_fact)"
   ]
  },
  {
   "cell_type": "code",
   "execution_count": 5,
   "metadata": {},
   "outputs": [
    {
     "data": {
      "text/plain": [
       "6"
      ]
     },
     "execution_count": 5,
     "metadata": {},
     "output_type": "execute_result"
    }
   ],
   "source": [
    "lua_fact(3) # seems to check out"
   ]
  },
  {
   "cell_type": "code",
   "execution_count": 6,
   "metadata": {},
   "outputs": [
    {
     "data": {
      "text/plain": [
       "6"
      ]
     },
     "execution_count": 6,
     "metadata": {},
     "output_type": "execute_result"
    }
   ],
   "source": [
    "def py_fact(n):\n",
    "    ''' let's implement the same factorial function in Python '''\n",
    "    if n == 0:\n",
    "        return 1\n",
    "    else:\n",
    "        return n * py_fact(n-1)\n",
    "    \n",
    "py_fact(3)"
   ]
  },
  {
   "cell_type": "code",
   "execution_count": 7,
   "metadata": {},
   "outputs": [
    {
     "name": "stdout",
     "output_type": "stream",
     "text": [
      "1000 loops, best of 3: 251 µs per loop\n"
     ]
    }
   ],
   "source": [
    "%timeit py_fact(300)"
   ]
  },
  {
   "cell_type": "code",
   "execution_count": 8,
   "metadata": {},
   "outputs": [
    {
     "name": "stdout",
     "output_type": "stream",
     "text": [
      "The slowest run took 8.77 times longer than the fastest. This could mean that an intermediate result is being cached.\n",
      "10000 loops, best of 3: 62.8 µs per loop\n"
     ]
    }
   ],
   "source": [
    "%timeit lua_fact(300)"
   ]
  },
  {
   "cell_type": "markdown",
   "metadata": {},
   "source": [
    "Increment in performance looks good... now for a look at the function in C."
   ]
  },
  {
   "cell_type": "code",
   "execution_count": 5,
   "metadata": {},
   "outputs": [
    {
     "name": "stdout",
     "output_type": "stream",
     "text": [
      "Collecting msl-loadlib\n",
      "  Downloading https://files.pythonhosted.org/packages/27/95/01988f14ad83838f3eeb9c8c0523777be139f8a74c20e3bd8146cfe9d3dd/msl_loadlib-0.4.0-py2.py3-none-win_amd64.whl (8.7MB)\n",
      "Collecting py4j (from msl-loadlib)\n",
      "  Downloading https://files.pythonhosted.org/packages/e3/53/c737818eb9a7dc32a7cd4f1396e787bd94200c3997c72c1dbe028587bd76/py4j-0.10.7-py2.py3-none-any.whl (197kB)\n",
      "Requirement already satisfied: pythonnet; platform_system == \"Windows\" in c:\\anaconda2\\lib\\site-packages (from msl-loadlib)\n",
      "Installing collected packages: py4j, msl-loadlib\n",
      "Successfully installed msl-loadlib-0.4.0 py4j-0.10.7\n"
     ]
    },
    {
     "name": "stderr",
     "output_type": "stream",
     "text": [
      "You are using pip version 9.0.1, however version 18.0 is available.\n",
      "You should consider upgrading via the 'python -m pip install --upgrade pip' command.\n"
     ]
    }
   ],
   "source": [
    "! pip install msl-loadlib"
   ]
  },
  {
   "cell_type": "code",
   "execution_count": 20,
   "metadata": {
    "collapsed": true
   },
   "outputs": [],
   "source": [
    "# https://sourceforge.net/projects/mingw-w64/files/latest/download\n",
    "# choose x86_64 and win32"
   ]
  },
  {
   "cell_type": "code",
   "execution_count": 19,
   "metadata": {
    "collapsed": true
   },
   "outputs": [],
   "source": [
    "! C:\\MinGW-64\\mingw64\\bin\\gcc -Wall -shared fact.c -o fact.dll"
   ]
  },
  {
   "cell_type": "code",
   "execution_count": 9,
   "metadata": {},
   "outputs": [
    {
     "data": {
      "text/plain": [
       "<LoadLibrary id=0x602d860 libtype=CDLL path=C:\\Users\\simon.garisch\\Desktop\\git\\programming-in-lua\\fact.dll>"
      ]
     },
     "execution_count": 9,
     "metadata": {},
     "output_type": "execute_result"
    }
   ],
   "source": [
    "from msl.loadlib import LoadLibrary\n",
    "\n",
    "loader = LoadLibrary(\"fact.dll\")\n",
    "loader"
   ]
  },
  {
   "cell_type": "code",
   "execution_count": 10,
   "metadata": {},
   "outputs": [
    {
     "data": {
      "text/plain": [
       "<CDLL 'C:\\Users\\simon.garisch\\Desktop\\git\\programming-in-lua\\fact.dll', handle 64cc0000 at 600a710>"
      ]
     },
     "execution_count": 10,
     "metadata": {},
     "output_type": "execute_result"
    }
   ],
   "source": [
    "loader.lib"
   ]
  },
  {
   "cell_type": "code",
   "execution_count": 11,
   "metadata": {},
   "outputs": [
    {
     "data": {
      "text/plain": [
       "<_FuncPtr object at 0x00000000060D62B8>"
      ]
     },
     "execution_count": 11,
     "metadata": {},
     "output_type": "execute_result"
    }
   ],
   "source": [
    "loader.lib.fact"
   ]
  },
  {
   "cell_type": "code",
   "execution_count": 12,
   "metadata": {
    "collapsed": true
   },
   "outputs": [],
   "source": [
    "c_fact = loader.lib.fact"
   ]
  },
  {
   "cell_type": "code",
   "execution_count": 13,
   "metadata": {},
   "outputs": [
    {
     "data": {
      "text/plain": [
       "6"
      ]
     },
     "execution_count": 13,
     "metadata": {},
     "output_type": "execute_result"
    }
   ],
   "source": [
    "c_fact(3)"
   ]
  },
  {
   "cell_type": "code",
   "execution_count": 16,
   "metadata": {},
   "outputs": [
    {
     "name": "stdout",
     "output_type": "stream",
     "text": [
      "1000 loops, best of 3: 403 µs per loop\n"
     ]
    }
   ],
   "source": [
    "%timeit py_fact(300)"
   ]
  },
  {
   "cell_type": "code",
   "execution_count": 17,
   "metadata": {},
   "outputs": [
    {
     "name": "stdout",
     "output_type": "stream",
     "text": [
      "The slowest run took 4.02 times longer than the fastest. This could mean that an intermediate result is being cached.\n",
      "10000 loops, best of 3: 66.9 µs per loop\n"
     ]
    }
   ],
   "source": [
    "%timeit lua_fact(300)"
   ]
  },
  {
   "cell_type": "code",
   "execution_count": 18,
   "metadata": {},
   "outputs": [
    {
     "name": "stdout",
     "output_type": "stream",
     "text": [
      "The slowest run took 5.25 times longer than the fastest. This could mean that an intermediate result is being cached.\n",
      "100000 loops, best of 3: 2.37 µs per loop\n"
     ]
    }
   ],
   "source": [
    "%timeit c_fact(300)"
   ]
  },
  {
   "cell_type": "code",
   "execution_count": 23,
   "metadata": {},
   "outputs": [
    {
     "data": {
      "text/plain": [
       "(120, 120, 120)"
      ]
     },
     "execution_count": 23,
     "metadata": {},
     "output_type": "execute_result"
    }
   ],
   "source": [
    "py_fact(5), lua_fact(5), c_fact(5)"
   ]
  }
 ],
 "metadata": {
  "kernelspec": {
   "display_name": "Python 2",
   "language": "python",
   "name": "python2"
  },
  "language_info": {
   "codemirror_mode": {
    "name": "ipython",
    "version": 2
   },
   "file_extension": ".py",
   "mimetype": "text/x-python",
   "name": "python",
   "nbconvert_exporter": "python",
   "pygments_lexer": "ipython2",
   "version": "2.7.14"
  }
 },
 "nbformat": 4,
 "nbformat_minor": 2
}

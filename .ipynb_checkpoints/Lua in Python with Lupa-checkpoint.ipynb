{
 "cells": [
  {
   "cell_type": "markdown",
   "metadata": {},
   "source": [
    "## A basic example of speeding up Python with Lua"
   ]
  },
  {
   "cell_type": "code",
   "execution_count": 1,
   "metadata": {},
   "outputs": [
    {
     "name": "stdout",
     "output_type": "stream",
     "text": [
      "Collecting lupa\n",
      "  Downloading https://files.pythonhosted.org/packages/9a/49/e8218be29c7dd449a953485ccb09ec1c2bd1ceda8c68a7ea5df400f3c953/lupa-1.7-cp27-cp27m-win_amd64.whl (214kB)\n",
      "Installing collected packages: lupa\n",
      "Successfully installed lupa-1.7\n"
     ]
    },
    {
     "name": "stderr",
     "output_type": "stream",
     "text": [
      "You are using pip version 9.0.1, however version 18.0 is available.\n",
      "You should consider upgrading via the 'python -m pip install --upgrade pip' command.\n"
     ]
    }
   ],
   "source": [
    "! pip install lupa"
   ]
  },
  {
   "cell_type": "code",
   "execution_count": 2,
   "metadata": {
    "collapsed": true
   },
   "outputs": [],
   "source": [
    "import lupa"
   ]
  },
  {
   "cell_type": "code",
   "execution_count": 3,
   "metadata": {},
   "outputs": [
    {
     "name": "stdout",
     "output_type": "stream",
     "text": [
      "Help on package lupa:\n",
      "\n",
      "NAME\n",
      "    lupa\n",
      "\n",
      "FILE\n",
      "    c:\\anaconda2\\lib\\site-packages\\lupa\\__init__.py\n",
      "\n",
      "DESCRIPTION\n",
      "    # We need to enable global symbol visibility for lupa in order to\n",
      "    # support binary module loading in Lua.  If we can enable it here, we\n",
      "    # do it temporarily.\n",
      "\n",
      "PACKAGE CONTENTS\n",
      "    _lupa\n",
      "    version\n",
      "\n",
      "DATA\n",
      "    __version__ = '1.7'\n",
      "\n",
      "VERSION\n",
      "    1.7\n",
      "\n",
      "\n"
     ]
    }
   ],
   "source": [
    "help(lupa)"
   ]
  },
  {
   "cell_type": "markdown",
   "metadata": {},
   "source": [
    "Not that helpful ... here is the website: https://github.com/scoder/lupa"
   ]
  },
  {
   "cell_type": "code",
   "execution_count": 4,
   "metadata": {},
   "outputs": [
    {
     "data": {
      "text/plain": [
       "2"
      ]
     },
     "execution_count": 4,
     "metadata": {},
     "output_type": "execute_result"
    }
   ],
   "source": [
    "import lupa\n",
    "from lupa import LuaRuntime\n",
    "lua = LuaRuntime(unpack_returned_tuples=True)\n",
    "\n",
    "lua.eval(\"1+1\")"
   ]
  },
  {
   "cell_type": "code",
   "execution_count": 16,
   "metadata": {},
   "outputs": [
    {
     "name": "stdout",
     "output_type": "stream",
     "text": [
      "<Lua function at 0x0000000004549F60>\n"
     ]
    }
   ],
   "source": [
    "lua_code = \"\"\"\n",
    "-- defines a factorial function\n",
    "function fact(n)\n",
    "  if n == 0 then\n",
    "    return 1\n",
    "  else\n",
    "    return n * fact(n-1)\n",
    "  end\n",
    "end\n",
    "\n",
    "return fact -- give the function back to Python\n",
    "\"\"\"\n",
    "lua_fact = lua.execute(lua_code)\n",
    "print(lua_fact)"
   ]
  },
  {
   "cell_type": "code",
   "execution_count": 21,
   "metadata": {},
   "outputs": [
    {
     "data": {
      "text/plain": [
       "6"
      ]
     },
     "execution_count": 21,
     "metadata": {},
     "output_type": "execute_result"
    }
   ],
   "source": [
    "lua_fact(3) # seems to check out"
   ]
  },
  {
   "cell_type": "code",
   "execution_count": 23,
   "metadata": {},
   "outputs": [
    {
     "data": {
      "text/plain": [
       "6"
      ]
     },
     "execution_count": 23,
     "metadata": {},
     "output_type": "execute_result"
    }
   ],
   "source": [
    "def py_fact(n):\n",
    "    ''' let's implement the same factorial function in Python '''\n",
    "    if n == 0:\n",
    "        return 1\n",
    "    else:\n",
    "        return n * py_fact(n-1)\n",
    "    \n",
    "py_fact(3)"
   ]
  },
  {
   "cell_type": "code",
   "execution_count": 36,
   "metadata": {},
   "outputs": [
    {
     "name": "stdout",
     "output_type": "stream",
     "text": [
      "1000 loops, best of 3: 348 µs per loop\n"
     ]
    }
   ],
   "source": [
    "%timeit py_fact(300)"
   ]
  },
  {
   "cell_type": "code",
   "execution_count": 37,
   "metadata": {},
   "outputs": [
    {
     "name": "stdout",
     "output_type": "stream",
     "text": [
      "10000 loops, best of 3: 50.6 µs per loop\n"
     ]
    }
   ],
   "source": [
    "%timeit lua_fact(300)"
   ]
  },
  {
   "cell_type": "markdown",
   "metadata": {},
   "source": [
    "Increment in performance looks good..."
   ]
  },
  {
   "cell_type": "code",
   "execution_count": null,
   "metadata": {
    "collapsed": true
   },
   "outputs": [],
   "source": []
  }
 ],
 "metadata": {
  "kernelspec": {
   "display_name": "Python 2",
   "language": "python",
   "name": "python2"
  },
  "language_info": {
   "codemirror_mode": {
    "name": "ipython",
    "version": 2
   },
   "file_extension": ".py",
   "mimetype": "text/x-python",
   "name": "python",
   "nbconvert_exporter": "python",
   "pygments_lexer": "ipython2",
   "version": "2.7.14"
  }
 },
 "nbformat": 4,
 "nbformat_minor": 2
}
